{
 "cells": [
  {
   "cell_type": "code",
   "execution_count": 10,
   "metadata": {},
   "outputs": [],
   "source": [
    "from dataclasses import dataclass\n",
    "\n",
    "import gym\n",
    "import habitat.gym\n",
    "from habitat.config.default import get_agent_config\n",
    "from habitat.config.default_structured_configs import (\n",
    "    MeasurementConfig,\n",
    "    ThirdRGBSensorConfig,\n",
    "    TopDownMapMeasurementConfig,\n",
    "    CollisionsMeasurementConfig,\n",
    "    FogOfWarConfig,\n",
    ")\n",
    "from typing import TYPE_CHECKING, Union, cast\n",
    "\n",
    "from matplotlib import pyplot as plt\n",
    "# Imports\n",
    "import os\n",
    "from habitat.utils.visualizations import maps\n",
    "import git\n",
    "import gym\n",
    "import imageio\n",
    "import numpy as np\n",
    "from hydra.core.config_store import ConfigStore\n",
    "\n",
    "import habitat\n",
    "import habitat.gym\n",
    "from habitat.core.embodied_task import Measure\n",
    "from habitat.core.registry import registry\n",
    "from habitat.tasks.rearrange.rearrange_sensors import RearrangeReward\n",
    "from habitat.tasks.rearrange.rearrange_task import RearrangeTask\n",
    "from habitat.utils.visualizations.utils import (\n",
    "    observations_to_image,\n",
    "    overlay_frame,\n",
    "    images_to_video,\n",
    ")\n",
    "from habitat_sim.utils import viz_utils as vut\n",
    "\n",
    "# Quiet the Habitat simulator logging\n",
    "os.environ[\"MAGNUM_LOG\"] = \"quiet\"\n",
    "os.environ[\"HABITAT_SIM_LOG\"] = \"quiet\"\n",
    "\n",
    "\n",
    "def insert_render_options(config):\n",
    "    # Added settings to make rendering higher resolution for better visualization\n",
    "    with habitat.config.read_write(config):\n",
    "        config.habitat.simulator.concur_render = False\n",
    "        agent_config = get_agent_config(sim_config=config.habitat.simulator)\n",
    "        agent_config.sim_sensors.update(\n",
    "            {\"third_rgb_sensor\": ThirdRGBSensorConfig(height=512, width=512)}\n",
    "        )\n",
    "    return config\n",
    "\n",
    "from stable_baselines3 import PPO\n",
    "\n",
    "import importlib\n",
    "\n",
    "# If the import block fails due to an error like \"'PIL.TiffTags' has no attribute\n",
    "# 'IFD'\", then restart the Colab runtime instance and rerun this cell and the previous cell.\n",
    "import PIL\n",
    "\n",
    "importlib.reload(\n",
    "    PIL.TiffTags  # type: ignore[attr-defined]\n",
    ")  # To potentially avoid PIL problem\n",
    "\n",
    "repo = git.Repo(\".\", search_parent_directories=True)\n",
    "dir_path = repo.working_tree_dir\n",
    "data_path = os.path.join(dir_path, \"data\")\n",
    "output_path = os.path.join(\n",
    "    dir_path, \"video/custom_pointnav/\"\n",
    ")\n",
    "os.makedirs(output_path, exist_ok=True)\n",
    "os.chdir(dir_path)"
   ]
  },
  {
   "cell_type": "code",
   "execution_count": 11,
   "metadata": {},
   "outputs": [],
   "source": [
    "# Load embodied AI task (Pointnav) and a pre-specified virtual robot\n",
    "config = habitat.get_config(\n",
    "  \"/home/adonis/Documents/Thesis/Habitat/tak/habitat-lab/habitat-lab/habitat/config/benchmark/nav/pointnav/custom_pointnav_hssd.yaml\",\n",
    "  overrides=[\"habitat.environment.max_episode_steps=3000\"]\n",
    ")"
   ]
  },
  {
   "cell_type": "code",
   "execution_count": 12,
   "metadata": {},
   "outputs": [
    {
     "name": "stderr",
     "output_type": "stream",
     "text": [
      "2025-02-14 10:36:05,389 Initializing dataset CustomPointNav-v1\n",
      "2025-02-14 10:36:05,511 initializing sim Sim-v0\n",
      "PluginManager::Manager: duplicate static plugin StbImageImporter, ignoring\n",
      "2025-02-14 10:36:08,628 Initializing task Nav-v0\n",
      "PluginManager::Manager: duplicate static plugin GltfImporter, ignoring\n",
      "PluginManager::Manager: duplicate static plugin BasisImporter, ignoring\n",
      "PluginManager::Manager: duplicate static plugin AssimpImporter, ignoring\n",
      "PluginManager::Manager: duplicate static plugin AnySceneImporter, ignoring\n",
      "PluginManager::Manager: duplicate static plugin AnyImageImporter, ignoring\n"
     ]
    },
    {
     "name": "stdout",
     "output_type": "stream",
     "text": [
      "Discrete(3)\n"
     ]
    },
    {
     "ename": "KeyboardInterrupt",
     "evalue": "",
     "output_type": "error",
     "traceback": [
      "\u001b[0;31m---------------------------------------------------------------------------\u001b[0m",
      "\u001b[0;31mKeyboardInterrupt\u001b[0m                         Traceback (most recent call last)",
      "Cell \u001b[0;32mIn[12], line 15\u001b[0m\n\u001b[1;32m     13\u001b[0m \u001b[38;5;66;03m#print(observations)\u001b[39;00m\n\u001b[1;32m     14\u001b[0m render_obs \u001b[38;5;241m=\u001b[39m observations_to_image(observations, info)\n\u001b[0;32m---> 15\u001b[0m render_obs \u001b[38;5;241m=\u001b[39m \u001b[43moverlay_frame\u001b[49m\u001b[43m(\u001b[49m\u001b[43mrender_obs\u001b[49m\u001b[43m,\u001b[49m\u001b[43m \u001b[49m\u001b[43minfo\u001b[49m\u001b[43m)\u001b[49m\n\u001b[1;32m     16\u001b[0m \u001b[38;5;66;03m#print(observations.keys())\u001b[39;00m\n\u001b[1;32m     17\u001b[0m vis_frames\u001b[38;5;241m.\u001b[39mappend(render_obs)\n",
      "File \u001b[0;32m~/Documents/Thesis/Habitat/tak/habitat-lab/habitat-lab/habitat/utils/visualizations/utils.py:374\u001b[0m, in \u001b[0;36moverlay_frame\u001b[0;34m(frame, info, additional)\u001b[0m\n\u001b[1;32m    371\u001b[0m \u001b[38;5;28;01mif\u001b[39;00m additional \u001b[38;5;129;01mis\u001b[39;00m \u001b[38;5;129;01mnot\u001b[39;00m \u001b[38;5;28;01mNone\u001b[39;00m:\n\u001b[1;32m    372\u001b[0m     lines\u001b[38;5;241m.\u001b[39mextend(additional)\n\u001b[0;32m--> 374\u001b[0m frame \u001b[38;5;241m=\u001b[39m \u001b[43moverlay_text_to_image\u001b[49m\u001b[43m(\u001b[49m\u001b[43mframe\u001b[49m\u001b[43m,\u001b[49m\u001b[43m \u001b[49m\u001b[43mlines\u001b[49m\u001b[43m,\u001b[49m\u001b[43m \u001b[49m\u001b[43mfont_size\u001b[49m\u001b[38;5;241;43m=\u001b[39;49m\u001b[38;5;241;43m0.25\u001b[39;49m\u001b[43m)\u001b[49m\n\u001b[1;32m    376\u001b[0m \u001b[38;5;28;01mreturn\u001b[39;00m frame\n",
      "File \u001b[0;32m~/Documents/Thesis/Habitat/tak/habitat-lab/habitat-lab/habitat/utils/visualizations/utils.py:334\u001b[0m, in \u001b[0;36moverlay_text_to_image\u001b[0;34m(image, text, font_size)\u001b[0m\n\u001b[1;32m    331\u001b[0m     \u001b[38;5;28;01melse\u001b[39;00m:\n\u001b[1;32m    332\u001b[0m         x \u001b[38;5;241m=\u001b[39m w \u001b[38;5;241m-\u001b[39m (textsize[\u001b[38;5;241m0\u001b[39m] \u001b[38;5;241m+\u001b[39m \u001b[38;5;241m10\u001b[39m)\n\u001b[0;32m--> 334\u001b[0m     \u001b[43mcv2\u001b[49m\u001b[38;5;241;43m.\u001b[39;49m\u001b[43mputText\u001b[49m\u001b[43m(\u001b[49m\n\u001b[1;32m    335\u001b[0m \u001b[43m        \u001b[49m\u001b[43mimage\u001b[49m\u001b[43m,\u001b[49m\n\u001b[1;32m    336\u001b[0m \u001b[43m        \u001b[49m\u001b[43mline\u001b[49m\u001b[43m,\u001b[49m\n\u001b[1;32m    337\u001b[0m \u001b[43m        \u001b[49m\u001b[43m(\u001b[49m\u001b[43mx\u001b[49m\u001b[43m,\u001b[49m\u001b[43m \u001b[49m\u001b[43my\u001b[49m\u001b[43m)\u001b[49m\u001b[43m,\u001b[49m\n\u001b[1;32m    338\u001b[0m \u001b[43m        \u001b[49m\u001b[43mfont\u001b[49m\u001b[43m,\u001b[49m\n\u001b[1;32m    339\u001b[0m \u001b[43m        \u001b[49m\u001b[43mfont_size\u001b[49m\u001b[43m,\u001b[49m\n\u001b[1;32m    340\u001b[0m \u001b[43m        \u001b[49m\u001b[43m(\u001b[49m\u001b[38;5;241;43m0\u001b[39;49m\u001b[43m,\u001b[49m\u001b[43m \u001b[49m\u001b[38;5;241;43m0\u001b[39;49m\u001b[43m,\u001b[49m\u001b[43m \u001b[49m\u001b[38;5;241;43m0\u001b[39;49m\u001b[43m)\u001b[49m\u001b[43m,\u001b[49m\n\u001b[1;32m    341\u001b[0m \u001b[43m        \u001b[49m\u001b[43mfont_thickness\u001b[49m\u001b[43m \u001b[49m\u001b[38;5;241;43m*\u001b[39;49m\u001b[43m \u001b[49m\u001b[38;5;241;43m2\u001b[39;49m\u001b[43m,\u001b[49m\n\u001b[1;32m    342\u001b[0m \u001b[43m        \u001b[49m\u001b[43mlineType\u001b[49m\u001b[38;5;241;43m=\u001b[39;49m\u001b[43mcv2\u001b[49m\u001b[38;5;241;43m.\u001b[39;49m\u001b[43mLINE_AA\u001b[49m\u001b[43m,\u001b[49m\n\u001b[1;32m    343\u001b[0m \u001b[43m    \u001b[49m\u001b[43m)\u001b[49m\n\u001b[1;32m    345\u001b[0m     cv2\u001b[38;5;241m.\u001b[39mputText(\n\u001b[1;32m    346\u001b[0m         image,\n\u001b[1;32m    347\u001b[0m         line,\n\u001b[0;32m   (...)\u001b[0m\n\u001b[1;32m    353\u001b[0m         lineType\u001b[38;5;241m=\u001b[39mcv2\u001b[38;5;241m.\u001b[39mLINE_AA,\n\u001b[1;32m    354\u001b[0m     )\n\u001b[1;32m    356\u001b[0m \u001b[38;5;28;01mreturn\u001b[39;00m np\u001b[38;5;241m.\u001b[39mclip(image, \u001b[38;5;241m0\u001b[39m, \u001b[38;5;241m255\u001b[39m)\n",
      "\u001b[0;31mKeyboardInterrupt\u001b[0m: "
     ]
    }
   ],
   "source": [
    "env = habitat.gym.make_gym_from_config(config)\n",
    "\n",
    "vis_frames = []\n",
    "\n",
    "observations = env.reset()\n",
    "observations = env.reset()\n",
    "observations = env.reset()\n",
    "observations = env.reset()\n",
    "print(env.action_space)\n",
    "terminal = False\n",
    "while not terminal:\n",
    "    observations, reward, terminal, info = env.step(env.action_space.sample())\n",
    "    #print(observations)\n",
    "    render_obs = observations_to_image(observations, info)\n",
    "    render_obs = overlay_frame(render_obs, info)\n",
    "    #print(observations.keys())\n",
    "    vis_frames.append(render_obs)\n",
    "\n",
    "images_to_video(\n",
    "    vis_frames, output_path, \"example_pointnav\", fps=9, quality=9\n",
    ")"
   ]
  }
 ],
 "metadata": {
  "kernelspec": {
   "display_name": "habitat",
   "language": "python",
   "name": "python3"
  },
  "language_info": {
   "codemirror_mode": {
    "name": "ipython",
    "version": 3
   },
   "file_extension": ".py",
   "mimetype": "text/x-python",
   "name": "python",
   "nbconvert_exporter": "python",
   "pygments_lexer": "ipython3",
   "version": "3.9.21"
  }
 },
 "nbformat": 4,
 "nbformat_minor": 2
}
